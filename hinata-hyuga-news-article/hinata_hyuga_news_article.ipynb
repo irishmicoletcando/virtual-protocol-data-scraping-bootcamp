{
  "nbformat": 4,
  "nbformat_minor": 0,
  "metadata": {
    "colab": {
      "provenance": []
    },
    "kernelspec": {
      "name": "python3",
      "display_name": "Python 3"
    },
    "language_info": {
      "name": "python"
    }
  },
  "cells": [
    {
      "cell_type": "code",
      "execution_count": 1,
      "metadata": {
        "colab": {
          "base_uri": "https://localhost:8080/"
        },
        "id": "ukw8Jsw52fSF",
        "outputId": "ed8fb66a-61e3-4c5d-8c59-dc25a822ce19"
      },
      "outputs": [
        {
          "output_type": "stream",
          "name": "stdout",
          "text": [
            "Requirement already satisfied: requests in /usr/local/lib/python3.10/dist-packages (2.31.0)\n",
            "Requirement already satisfied: beautifulsoup4 in /usr/local/lib/python3.10/dist-packages (4.12.3)\n",
            "Requirement already satisfied: pandas in /usr/local/lib/python3.10/dist-packages (2.1.4)\n",
            "Requirement already satisfied: charset-normalizer<4,>=2 in /usr/local/lib/python3.10/dist-packages (from requests) (3.3.2)\n",
            "Requirement already satisfied: idna<4,>=2.5 in /usr/local/lib/python3.10/dist-packages (from requests) (3.7)\n",
            "Requirement already satisfied: urllib3<3,>=1.21.1 in /usr/local/lib/python3.10/dist-packages (from requests) (2.0.7)\n",
            "Requirement already satisfied: certifi>=2017.4.17 in /usr/local/lib/python3.10/dist-packages (from requests) (2024.7.4)\n",
            "Requirement already satisfied: soupsieve>1.2 in /usr/local/lib/python3.10/dist-packages (from beautifulsoup4) (2.5)\n",
            "Requirement already satisfied: numpy<2,>=1.22.4 in /usr/local/lib/python3.10/dist-packages (from pandas) (1.26.4)\n",
            "Requirement already satisfied: python-dateutil>=2.8.2 in /usr/local/lib/python3.10/dist-packages (from pandas) (2.8.2)\n",
            "Requirement already satisfied: pytz>=2020.1 in /usr/local/lib/python3.10/dist-packages (from pandas) (2024.1)\n",
            "Requirement already satisfied: tzdata>=2022.1 in /usr/local/lib/python3.10/dist-packages (from pandas) (2024.1)\n",
            "Requirement already satisfied: six>=1.5 in /usr/local/lib/python3.10/dist-packages (from python-dateutil>=2.8.2->pandas) (1.16.0)\n"
          ]
        }
      ],
      "source": [
        "!pip install requests beautifulsoup4 pandas"
      ]
    },
    {
      "cell_type": "code",
      "source": [
        "import requests\n",
        "from bs4 import BeautifulSoup\n",
        "import pandas as pd\n",
        "import nltk\n",
        "from nltk.tokenize import sent_tokenize"
      ],
      "metadata": {
        "id": "-DkJmmX52zWX"
      },
      "execution_count": 4,
      "outputs": []
    },
    {
      "cell_type": "code",
      "source": [
        "# Download the necessary resources for sentence tokenization\n",
        "nltk.download('punkt')\n",
        "\n",
        "# Function to extract data from a single page\n",
        "def extract_data_from_page(url):\n",
        "    headers = {\n",
        "        \"User-Agent\": \"Mozilla/5.0 (Windows NT 10.0; Win64; x64) AppleWebKit/537.36 (KHTML, like Gecko) Chrome/127.0.0.0 Safari/537.36 Edg/127.0.0.0\"\n",
        "    }\n",
        "    response = requests.get(url, headers=headers)\n",
        "    if response.status_code != 200:\n",
        "        return []\n",
        "\n",
        "    soup = BeautifulSoup(response.text, 'html.parser')\n",
        "\n",
        "    # Extracting data from 'p' tags\n",
        "    raw_data = []\n",
        "    sentences = soup.find_all('p')\n",
        "    exclude_phrases = [\n",
        "        \"Your changes have been saved\",\n",
        "        \"Email Is sent\",\n",
        "        \"Please verify your email address.\",\n",
        "        \"You’ve reached your account maximum for followed topics.\"\n",
        "    ]\n",
        "\n",
        "    for sentence in sentences:\n",
        "        text = sentence.get_text(strip=True, separator=' ')\n",
        "        for sent in sent_tokenize(text):  # Split paragraph into sentences\n",
        "            if not any(phrase in sent for phrase in exclude_phrases) and not sent.startswith(\"RELATED:\"):\n",
        "                raw_data.append(sent)\n",
        "\n",
        "    return raw_data\n",
        "\n",
        "# Extract and display data\n",
        "base_url = 'https://www.cbr.com/naruto-hinata-hyuga-unexplored-potential/'\n",
        "all_data = extract_data_from_page(base_url)\n",
        "\n",
        "# Display extracted data without headers\n",
        "df_extracted = pd.DataFrame(all_data, columns=['Sentence'])\n",
        "print(df_extracted.to_string(header=False))"
      ],
      "metadata": {
        "colab": {
          "base_uri": "https://localhost:8080/"
        },
        "id": "4_eevQsW3efn",
        "outputId": "f799ba63-e7c1-4fa9-9c7f-32734fd541e5"
      },
      "execution_count": 17,
      "outputs": [
        {
          "output_type": "stream",
          "name": "stderr",
          "text": [
            "[nltk_data] Downloading package punkt to /root/nltk_data...\n",
            "[nltk_data]   Package punkt is already up-to-date!\n"
          ]
        },
        {
          "output_type": "stream",
          "name": "stdout",
          "text": [
            "0                                                                                                                                         One of Naruto 's many strengths is its large cast of  interesting side characters.\n",
            "1                                                                          Kishimoto gives the Konoha 11, the then-latest generation of Konoha ninjas, varied backstories and personalities that add to Naruto 's rich lore.\n",
            "2        One such character is Hinata Hyuga, former heiress of the prestigious Hyuga clan who was deemed too soft to be a clan leader, and she later weds Naruto, her childhood love, and becomes powerful in her own right.\n",
            "3                             With such an intriguing background, Hinata's character had enormous potential but, like many of Naruto 's female characters , Kishimoto severely missed the mark in developing Hinata's story.\n",
            "4                                                                                                                   The Hyuga heiress is beloved by fans for her sweet personality, gentle manner and compassionate outlook.\n",
            "5                                    However, this likability mainly stems from her role as the unproblematic, token nice girl and though she receives some development, her character arc is both unsatisfying and shallow.\n",
            "6                                                                                                            Hinata Hyuga started out on Team 8 with Shino Aburame, Kiba Inuzaka and Kurenai Yuhi acting as the team leader.\n",
            "7                                                                                          Originally, Hinata was training with her father, Hiashi, to become the Hyuga clan heiress instead of becoming a part of the team.\n",
            "8                    However, Hinata proved too weak for Hiashi's standards and he appointed Hanabi - Hinata's younger sister - as the next heiress, throwing his eldest daughter to Kurenai as if he were disposing of her.\n",
            "9                                                                               Hinata understandably developed severe self-esteem issues after being disinherited and became painfully shy when speaking with other people.\n",
            "10                                                                             However, after stalking Naruto from a distance, she adopted his nindo, his ninja way, of ever giving up and began to find her inner strength.\n",
            "11                                                                                                                 The Hyuga ninja's story was that of an underdog, promising positive themes of growth and self-acceptance.\n",
            "12                                                                                                                                    But did Kishimoto never followed up on the character arc he had so carefully laid out.\n",
            "13                                                                Instead, he tossed her - along with nearly every other female character - to the side and Hinata fans had to rely on fillers to patch the gap left behind.\n",
            "14                                                                                    In the main story, Hinata was shown training with Neji, her rival and cousin, but was never able to properly demonstrate her strength.\n",
            "15                                                                                           In fact, despite this training, when the time came for her to face the powerful Pain in a real fight, she was quickly defeated.\n",
            "16                                                                           Even though this was a big moment for Hinata's character, it felt unearned because there was no natural progression to her newfound confidence.\n",
            "17                                                                           Similarly, after Neji's death Hinata stepped forward to confront Naruto, showing a steeled side of herself there had only been hints of before.\n",
            "18                                                          This was a poignant moment but, because the struggles Hinata went through to reach this point went unseen, her actions lacked the true impact they could've had.\n",
            "19  These fleeting moments are representative of Hinata's entire arc as a whole: poorly written and filled with inconsistent development that's reset by the next episode because shy Hinata's is simply too cute to change.\n",
            "20                                                                                            Though some may argue that she is simply a side character, Hinata is Naruto's love interest and directly relevant to the plot.\n",
            "21                                                                               Furthermore, characters like Choji and Shikamaru had masterful development, despite fading from relevance at multiple points in the series.\n",
            "22                                                                                                                     Hinata, however, is never so lucky, barely evolving beyond the stalker girl who obsessed with Naruto.\n",
            "23                                                             Relationships should be about two different people helping each other grow, but Hinata doesn't bring any nuance as she is played off as Naruto's cheerleader.\n",
            "24                                                                                                                         The aforementioned terrible father Hiashi Hyuga never makes things right when it comes to Hinata.\n",
            "25                                                                                                                         Despite this, the man who abandoned his daughter is present at her wedding at the end of Naruto .\n",
            "26                                                                                                     There is a redemption arc between Neji and Hiashi, but there isn't a similar arc between Hiashi and his own daughter.\n",
            "27                                                                                                             He never apologizes for throwing her out and never takes back the cruel words that destroyed her self-esteem.\n",
            "28                                                                                                                                           Hinata's underdog story is a parallel to Naruto's own struggle for recognition.\n",
            "29                                                                   It would have been beautiful to see her father apologize and fully embrace her as a Hyuga in the same way Konoha eventually accepted Naruto as a ninja.\n",
            "30                There is a brief moment where Hiashi entrusts Neji's life to Hinata during the Fourth Ninja War, but it's a flimsy olive branch when compared to his previous actions - on both Hinata and Neji's account.\n",
            "31                                                                                     So, when Hiashi smiles at Hinata during her wedding, it's meaningless and unearned in light of his previous brusque treatment of her.\n",
            "32                                                                       The two never had an on-screen heart-to-heart, but fans are still forced to accept that Hinata's years of trauma a suddenly water under the bridge.\n",
            "33                                                                                                                                                Hinata's greatest strength is her compassion and willingness to work hard.\n",
            "34                                                                                                               Hints of these traits shine during filler arcs that see her develop new jutsu and face down gigantic wasps.\n",
            "35                                                                                                                                                                    But this development isn't carried over to Shippuden .\n",
            "36                                The anime cut down many of Hinata's most triumphant moments, such as when she performed the Eight Trigrams Vacuum Palm with Neji or took down Ten-Tail clones with a completely new jutsu.\n",
            "37                             A satisfying conclusion to Hinata's character arc would have explored how her compassion could've brought change to the Hyuga clan or how gentleness is essential to ending cycles of hatred.\n",
            "38                                                                                             Hinata was the punching bag of her family, a target for Neji's rage, her father's ruthlessness and Hanabi's own insecurities.\n",
            "39                                                                                          However, she broke the Hyuga cycle of hate by not perpetuating negativity onto others, a theme explored in the Fourth Ninja War.\n",
            "40                                          She could have become a diplomat, normalizing relations with other villages or something similar to emphasize the importance of peace and kindness in a world defined by hatred.\n",
            "41                                                    And just like Naruto and Hinata's union, Hinata's arc should have combined Naruto's nindo of determination with her own kindness to change the terrible branch system.\n",
            "42                                                                                                                          This would have been the ultimate expression of Hinata's struggle with self-acceptance and love.\n",
            "43                                                                                Readers would've seen how confident and empathetic Hinata had become after her previous insecurity and weakness and given us a resolution.\n",
            "44                                                                                                                    Kishimoto has issues creating nuanced female characters, consistently wasting their amazing potential.\n",
            "45                                                                                                               Hinata is another unfortunate victim of his bad writing and her unique personality is never fully realized.\n",
            "46                                   The former Hyuga heiress is a breath of fresh air to the hateful shinobi world with her kindness and she could have had a beautiful story reaffirming values of acceptance and empathy.\n",
            "47                                                                                 A fully developed Hinata would have only reinforced and added to the themes of Naruto but, as it stands, she is simply wasted potential .\n",
            "48                                                                                                                                                                      KEEP READING: Naruto: Strongest Kekkei Genkai Ranked\n",
            "49                                                                     Dragon Ball Z’s brand of intergalactic action, whimsical sci-fi world and lovable characters made it the premier shonen battle manga of a generation.\n",
            "50                                                                       The 2000s was a time when the big three overshadowed other excellent shonen, seinen, and shojo anime, which fans may say was unfair to other anime.\n",
            "51                                                                                                                                          Jonin in Naruto are considered to be superhuman, and there are not many of them.\n",
            "52                                                                                                                                                                   That being said, some Jonin stand out more than others.\n",
            "53                                                                           JoJo's Bizarre Adventure author Hirohiko Araki finally ends the debate over the strongest Stands in the series with his first public art piece.\n",
            "54                                                                       Studio Ghibli's official replica of Kiki's leather travel bag returns to Donguri Sora, allowing Kiki fans to set out on their own magical journeys.\n",
            "55                                                                             Some of the most realistic fights in the Pokémon anime series are surprisingly and unexpectedly brutal to watch for their animalistic nature.\n"
          ]
        }
      ]
    },
    {
      "cell_type": "code",
      "source": [
        "# Check for null values in the DataFrame\n",
        "null_summary = df_extracted.isnull().sum()\n",
        "\n",
        "# Print the summary of null values\n",
        "print(\"Summary of null values in each column:\")\n",
        "print(null_summary)"
      ],
      "metadata": {
        "colab": {
          "base_uri": "https://localhost:8080/"
        },
        "id": "QfSqaXd-AH7-",
        "outputId": "2791f2a4-1edc-43a3-9ef6-954dbbb05180"
      },
      "execution_count": 18,
      "outputs": [
        {
          "output_type": "stream",
          "name": "stdout",
          "text": [
            "Summary of null values in each column:\n",
            "Sentence    0\n",
            "dtype: int64\n"
          ]
        }
      ]
    },
    {
      "cell_type": "code",
      "source": [
        "# Check for duplicates based on all columns\n",
        "duplicates = df_extracted.duplicated()\n",
        "\n",
        "# Print the rows that are duplicates\n",
        "print(\"Duplicate Rows:\")\n",
        "print(df_extracted[duplicates])"
      ],
      "metadata": {
        "colab": {
          "base_uri": "https://localhost:8080/"
        },
        "id": "d2J5aFxXAHzH",
        "outputId": "ba734d8f-ffee-45c3-e80f-e91b15e1c127"
      },
      "execution_count": 19,
      "outputs": [
        {
          "output_type": "stream",
          "name": "stdout",
          "text": [
            "Duplicate Rows:\n",
            "Empty DataFrame\n",
            "Columns: [Sentence]\n",
            "Index: []\n"
          ]
        }
      ]
    },
    {
      "cell_type": "code",
      "source": [
        "# Save the cleaned DataFrame to a new CSV file\n",
        "df_extracted.to_csv('hinata_news_article.csv', index=False, header=False)\n",
        "\n",
        "# Convert CSV file to .txt file\n",
        "df_extracted.to_csv('hinata_news_article.txt', sep='\\t')"
      ],
      "metadata": {
        "id": "zNS584SiAulP"
      },
      "execution_count": 22,
      "outputs": []
    }
  ]
}