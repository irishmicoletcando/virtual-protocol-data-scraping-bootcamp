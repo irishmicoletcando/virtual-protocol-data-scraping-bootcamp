{
  "nbformat": 4,
  "nbformat_minor": 0,
  "metadata": {
    "colab": {
      "provenance": []
    },
    "kernelspec": {
      "name": "python3",
      "display_name": "Python 3"
    },
    "language_info": {
      "name": "python"
    }
  },
  "cells": [
    {
      "cell_type": "code",
      "execution_count": 9,
      "metadata": {
        "colab": {
          "base_uri": "https://localhost:8080/"
        },
        "id": "VtAUJBqfP0n9",
        "outputId": "6bb97546-09c4-4cb1-9df8-3de197f7f26a"
      },
      "outputs": [
        {
          "output_type": "stream",
          "name": "stdout",
          "text": [
            "Requirement already satisfied: requests in /usr/local/lib/python3.10/dist-packages (2.31.0)\n",
            "Requirement already satisfied: beautifulsoup4 in /usr/local/lib/python3.10/dist-packages (4.12.3)\n",
            "Requirement already satisfied: pandas in /usr/local/lib/python3.10/dist-packages (2.1.4)\n",
            "Requirement already satisfied: charset-normalizer<4,>=2 in /usr/local/lib/python3.10/dist-packages (from requests) (3.3.2)\n",
            "Requirement already satisfied: idna<4,>=2.5 in /usr/local/lib/python3.10/dist-packages (from requests) (3.7)\n",
            "Requirement already satisfied: urllib3<3,>=1.21.1 in /usr/local/lib/python3.10/dist-packages (from requests) (2.0.7)\n",
            "Requirement already satisfied: certifi>=2017.4.17 in /usr/local/lib/python3.10/dist-packages (from requests) (2024.7.4)\n",
            "Requirement already satisfied: soupsieve>1.2 in /usr/local/lib/python3.10/dist-packages (from beautifulsoup4) (2.5)\n",
            "Requirement already satisfied: numpy<2,>=1.22.4 in /usr/local/lib/python3.10/dist-packages (from pandas) (1.26.4)\n",
            "Requirement already satisfied: python-dateutil>=2.8.2 in /usr/local/lib/python3.10/dist-packages (from pandas) (2.8.2)\n",
            "Requirement already satisfied: pytz>=2020.1 in /usr/local/lib/python3.10/dist-packages (from pandas) (2024.1)\n",
            "Requirement already satisfied: tzdata>=2022.1 in /usr/local/lib/python3.10/dist-packages (from pandas) (2024.1)\n",
            "Requirement already satisfied: six>=1.5 in /usr/local/lib/python3.10/dist-packages (from python-dateutil>=2.8.2->pandas) (1.16.0)\n"
          ]
        }
      ],
      "source": [
        "!pip install requests beautifulsoup4 pandas"
      ]
    },
    {
      "cell_type": "code",
      "source": [
        "import requests\n",
        "from bs4 import BeautifulSoup\n",
        "import pandas as pd\n",
        "import nltk\n",
        "from nltk.tokenize import sent_tokenize"
      ],
      "metadata": {
        "id": "wg8N6jaTQ8Hk"
      },
      "execution_count": 10,
      "outputs": []
    },
    {
      "cell_type": "code",
      "source": [
        "# Download the necessary resources for sentence tokenization\n",
        "nltk.download('punkt')\n",
        "\n",
        "exclude_phrases = [\n",
        "    \"Your changes have been saved\",\n",
        "    \"Email Is sent\",\n",
        "    \"Please verify your email address.\",\n",
        "    \"You’ve reached your account maximum for followed topics.\",\n",
        "    'Baskin-Robbins Japan prepares a limited seasonal lineup of delicious Pokemon-themed treats for its sixth annual \"Poké Summer\" campaign.',\n",
        "    \"Dragon Ball is rich in prolific transformations, but the franchise's non-canon material also introduces some creative new forms for characters!\",\n",
        "    \"Studio Ghibli's official store has a new release in the form of My Neighbor Totoro card holders, which mimic the look of traditional Japanese amulets.\",\n",
        "    \"Goku and his son, Gohan, are two of Dragon Ball's greatest heroes, but there are some major differences between the two Saiyans.\",\n",
        "    \"Plenty of anime feature notable corsairs who share similar values & virtues to the Straw Hats & would be welcome additions to One Piece lore.\",\n",
        "    \"As the Straw Hats celebrate success at the peak of their adventure, it's the perfect time to reflect on the origins of their trademark monikers.\",\n",
        "    \"Dragon Ball GT is a very controversial show.\",\n",
        "    \"However, the Japanese and American versions have major differences.\",\n",
        "    \"Anime films like The End of Evangelion and The Garden of Sinners are shining examples of anime's ability to challenge viewers' perspectives.\",\n",
        "    \"A prototype by toy developer Flame Toys is set to modernize the obscure Transformers: Zone Autobot hero Dai Atlas through a new action figure.\",\n",
        "    \"The latest Solo Leveling: Arise update introduces new summer-themed costumes and weapons for popular Hunters Sung Jin-woo, Cha Hae-in and others.\",\n",
        "    \"Dragon Ball Z’s brand of intergalactic action, whimsical sci-fi world and lovable characters made it the premier shonen battle manga of a generation.\",\n",
        "    \"Solo Leveling webtoon sequel series, Solo Leveling: Ragnarok, debuts with over 2,000 pages, depicting main character Sung Suho and his partner Beru.\",\n",
        "    \"Dragon Ball DAIMA is set to rewrite the series' status quo, but there are certain beloved Dragon Ball Super characters who are unlikely to appear!\",\n",
        "    \"Avatar: The Last Airbender may be geared toward younger audiences, but that does not make it an innocent and carefree viewing experience.\",\n",
        "    \"Dragon Ball DAIMA is set to redefine Akira Toriyama's signature shonen series, but there are already some exciting theories on what lies ahead!\",\n",
        "    \"Shonen Jump's Sakamoto Days anime gets a release update, with Netflix dropping the controversial episode strategy that many fans have long hated.\",\n",
        "    \"One Piece has many fantastic sagas that include exciting story arcs like Alabasta and Enies Lobby.\"\n",
        "]\n",
        "\n",
        "# Function to extract data from screenrant\n",
        "def extract_data_from_screenrant(url):\n",
        "    headers = {\n",
        "        \"User-Agent\": \"Mozilla/5.0 (Windows NT 10.0; Win64; x64) AppleWebKit/537.36 (KHTML, like Gecko) Chrome/127.0.0.0 Safari/537.36 Edg/127.0.0.0\"\n",
        "    }\n",
        "    response = requests.get(url, headers=headers)\n",
        "    if response.status_code != 200:\n",
        "        return []\n",
        "\n",
        "    soup = BeautifulSoup(response.text, 'html.parser')\n",
        "\n",
        "    raw_data = []\n",
        "\n",
        "    # Extracting data from 'p' tags\n",
        "    div_element = soup.find_all('div', class_=\"content-block-regular\")\n",
        "\n",
        "    for sentence in div_element:\n",
        "            text = sentence.get_text(strip=True, separator=' ')\n",
        "            for sent in sent_tokenize(text):  # Split paragraph into sentences\n",
        "                if not any(phrase in sent for phrase in exclude_phrases) and not sent.startswith(\"RELATED:\"):\n",
        "                    raw_data.append(sent)\n",
        "\n",
        "    return raw_data\n",
        "\n",
        "# Function to extract data from absolute anime\n",
        "def extract_data_from_absolute_anime(url):\n",
        "    headers = {\n",
        "        \"User-Agent\": \"Mozilla/5.0 (Windows NT 10.0; Win64; x64) AppleWebKit/537.36 (KHTML, like Gecko) Chrome/127.0.0.0 Safari/537.36 Edg/127.0.0.0\"\n",
        "    }\n",
        "    response = requests.get(url, headers=headers)\n",
        "    if response.status_code != 200:\n",
        "        return []\n",
        "\n",
        "    soup = BeautifulSoup(response.text, 'html.parser')\n",
        "\n",
        "    raw_data = []\n",
        "\n",
        "    # Extracting data from 'p' tags\n",
        "    div_element = soup.find_all('div', class_= 'aa_section_content  aa_section_description')\n",
        "\n",
        "    for sentences in div_element:\n",
        "      paragraph = sentences.find_all(\"p\")\n",
        "      for sentence in sentences:\n",
        "        text = sentence.get_text(strip=True, separator=' ')\n",
        "        for sent in sent_tokenize(text):  # Split paragraph into sentences\n",
        "            if not sent.startswith(\"RELATED:\"):\n",
        "                raw_data.append(sent)\n",
        "\n",
        "    return raw_data\n",
        "\n",
        "# Function to extract data from CBR\n",
        "def extract_data_from_cbr(url):\n",
        "    headers = {\n",
        "        \"User-Agent\": \"Mozilla/5.0 (Windows NT 10.0; Win64; x64) AppleWebKit/537.36 (KHTML, like Gecko) Chrome/127.0.0.0 Safari/537.36 Edg/127.0.0.0\"\n",
        "    }\n",
        "    response = requests.get(url, headers=headers)\n",
        "    if response.status_code != 200:\n",
        "        return []\n",
        "\n",
        "    soup = BeautifulSoup(response.text, 'html.parser')\n",
        "\n",
        "    raw_data = []\n",
        "\n",
        "    # Extracting data from 'p' tags\n",
        "    p_elements = soup.find_all('p')\n",
        "\n",
        "    for sentence in p_elements:\n",
        "        text = sentence.get_text(strip=True, separator=' ')\n",
        "        for sent in sent_tokenize(text):  # Split paragraph into sentences\n",
        "            if not any(phrase in sent for phrase in exclude_phrases) and not sent.startswith(\"RELATED:\") and not sent.startswith(\"KEEP READING:\"):\n",
        "                raw_data.append(sent)\n",
        "\n",
        "    # Exclude the last 4 rows\n",
        "    if len(raw_data) > 4:\n",
        "        raw_data = raw_data[:-4]\n",
        "\n",
        "    return raw_data\n",
        "\n",
        "screenrant_url = 'https://screenrant.com/naruto-facts-trivia-hinata/'\n",
        "absolute_anime_url = 'https://www.absoluteanime.com/naruto/hinata#'\n",
        "cbr_url = 'https://www.cbr.com/naruto-hyuga-hinata-mbti-personality/'\n",
        "\n",
        "all_data_screenrant = extract_data_from_screenrant(screenrant_url)\n",
        "all_data_absolute_anime = extract_data_from_absolute_anime(absolute_anime_url)\n",
        "all_data_cbr = extract_data_from_cbr(cbr_url)\n",
        "\n",
        "# Combine the data\n",
        "all_data = all_data_screenrant + all_data_absolute_anime + all_data_cbr\n",
        "\n",
        "# Display extracted data without headers\n",
        "df_extracted = pd.DataFrame(all_data, columns=['Sentence'])\n",
        "print(df_extracted.to_string(header=False))"
      ],
      "metadata": {
        "colab": {
          "base_uri": "https://localhost:8080/"
        },
        "id": "XiuuPXmQRT17",
        "outputId": "b3ad272f-b3ee-4f65-9a40-e5e1ad8bfc53"
      },
      "execution_count": 13,
      "outputs": [
        {
          "output_type": "stream",
          "name": "stderr",
          "text": [
            "[nltk_data] Downloading package punkt to /root/nltk_data...\n",
            "[nltk_data]   Package punkt is already up-to-date!\n"
          ]
        },
        {
          "output_type": "stream",
          "name": "stdout",
          "text": [
            "0                                                                                                                                                                               When introduced in the Naruto manga and anime, Hinata Hyuga was a shy girl trying her best to master shinobi skills.\n",
            "1                                                                                                                                                                                                    Her quiet attitude and desire to avoid conflict made her an unlikely ninja, but she persevered.\n",
            "2                                                                                                                                                                                                               She’s a fixture in the franchise, and its spinoff, Boruto: Naruto Next Generations .\n",
            "3                                                                                                                                                              Fans who were introduced to her as a result of the spinoff series might not realize just how important she was in the original story.\n",
            "4                                                                                                                                                   Of course, with gaps in the timeline and some versions of novels not available all over the world, even long time fans have questions about her.\n",
            "5                                                                                               Updated on December 23rd, 2020 by Amanda Bruce: Though Hinata might not be a driving presence in the Boruto series, she's a steady and unwaveringly loyal character in the original Naruto chapters.\n",
            "6                                                                                                     There's still so much more for fans to learn about her character so we've added an extra 5 pieces of trivia and otherwise interesting info that every Naruto or Boruto fan should be aware of.\n",
            "7                                                                                                                                                                                                                                                 What Is The One Subject She Failed At The Academy?\n",
            "8                                                                                                                                                  Character guides and databooks can be great sources of information for fans who want as many details as possible about their favorite characters.\n",
            "9                                                                                                                                                                                                            Most of them are even written or edited by franchise creator Masashi Kishimoto himself.\n",
            "10                                                                                                                                                             One of the many things revealed about Hinata in those books is just how much potential Hinata showed at the Ninja Academy as a child.\n",
            "11                                                                                                                                                                                                                    She earned an A in taijutsu, classroom attitude, and cooperation, for example.\n",
            "12                                                                                                                                                                                                                                                        The one area that her teachers failed her?\n",
            "13                                                                                                                                                                                                                                                                                       Positivity.\n",
            "14                                                                                                                                       That makes perfect sense considering Hinata didn't have much self-confidence in herself as a child and struggled when she was made the center of attention.\n",
            "15                                                                                                                                                                                                                                                                     What Is Hinata's Zodiac Sign?\n",
            "16                                                                                                                                   Though the western zodiac doesn't play a role in the Naruto franchise, fans interested in astrology can figure out the zodiac signs of most of the characters .\n",
            "17                                                                                                                                                                                                                               All of the birthdays are revealed in their statistics in the manga.\n",
            "18                                                                                                                                                                                 Hinata, born on December 27, has a birthday just at the start of Capricorn season (which lasts until January 19).\n",
            "19                                                                                                                                                                                                                             Capricorns are usually seen as the most stoic and ambitious of signs.\n",
            "20                                                                           Hinata might not seem ambitious at first glance, but her commitment to proving her worth as a shinobi and her exhaustive efforts to be able to help her community demonstrate the hard-working attitude of a Capricorn.\n",
            "21                                                                                                                                                                                                                                                                          What Is Her Nature Type?\n",
            "22                                                                                                                                                                                      Within the Naruto franchise, fans know that different shinobi have affinities for different types of skills.\n",
            "23                                                                                                                                                                                                                                                    That's in large part due to their Nature Type.\n",
            "24                                                                                                                                                              Most shinobi begin their training with one (Naruto's is Wind Release, for example) before being able to access other chakra natures.\n",
            "25                                                                                                                                                                                           Hinata has two Nature Types, even though she doesn't often use ninjutsu skills that would require them.\n",
            "26                                                                                                                                                                         She can utilize both Lightning Release and Fire Release, which tend to be two of the most explosive skill sets in battle.\n",
            "27                                                                                                                                                                                                                                                   It's quite a contrast to her quiet personality.\n",
            "28                                                                                                                                                                                                                                                          Does She Have Anime Exclusive Abilities?\n",
            "29                                                                                                                                                              Because much of the original anime series aired while the manga was being published, filler episodes are a large part of the series.\n",
            "30                                                                                                                                                                                               Those episodes don't connect to the plot from the manga but do work to fill in character backstory.\n",
            "31                                                                                                                                                                                                                   As a result, a lot of characters have abilities they only exhibit in the anime.\n",
            "32                                                                                                                                                                                                                                                                            Hinata is one of them.\n",
            "33                                                                                                                                                           She also develops the \"water needle\" in a filler episode which allows her to channel her chakra into needle-like shards at her enemies.\n",
            "34                                                                                                                                                                                                                          She uses it against a swarm of insects to protect her team on a mission.\n",
            "35                                                                                                                                                                                                                                                                           What Is Her Blood Type?\n",
            "36                                                                               Those who love anime, manga, or Japanese pop culture in general, will notice that a lot of official merchandise or released statistics about fictional characters (and even celebrities) includes their blood type.\n",
            "37                                                                                                                                                                                                                              That's because there is a personality theory surrounding blood type.\n",
            "38                                                                                                                             While nothing about the theory has ever been proven true, writers often still make use of it the same way pop culture enthusiasts do Hogwarts houses or zodiac signs.\n",
            "39                                                                                                                                                                                                                                         According to her official stats, Hinata has Type A blood.\n",
            "40                                                                                                                                                                                                                       That particular blood type is associated with those who are well organized.\n",
            "41                                                                                                                                                                                                                In theory, those who are Type A are also polite, reserved, and incredibly patient.\n",
            "42                                                                                                                                                                                                                         Her type is in contrast with her eventual husband Naruto , who is Type B.\n",
            "43                                                                                                                                                                                                                        That type is associated with passionate, creative, and adventurous people.\n",
            "44                                                                                                                                                                                                                                                    Why Did Hinata Wear Her Hair Short Originally?\n",
            "45                                                                                                                                                                                Fans were quick to notice that most of the female shinobi in training in Naruto’s generation wore their hair long.\n",
            "46                                                                                                                                                                            Sakura and Ino, by their own admission, kept their hair long because they wanted to appear appealing to Sasuke Uchiha.\n",
            "47                                                                                                                                                                                                                  Tenten often wore her hair up in buns, keeping it out of the way of her weapons.\n",
            "48                                                                                                                                                                                                                                            Hinata, however, had her hair cut to her chin instead.\n",
            "49                                                                                                                                                                                                                                                         The reasoning there is possibly two-fold.\n",
            "50                                                                                                                                                                   With Hinata’s eye on Naruto, she wouldn’t want to draw the attention of Sasuke - who supposedly thought long hair was becoming.\n",
            "51                                                                                                                                                                                                                                                                  There is also a cultural reason.\n",
            "52                                                                                                                                                                                                               In Japanese culture, when a girl disgraced her family, her long hair was cut short.\n",
            "53                                                                                                                                                                With Hinata’s family not having faith in her as a shinobi, her father might have made the decision to cut her hair instead of her.\n",
            "54                                                                                                                                                                                                                                                                     When Did Hinata First Appear?\n",
            "55                                                                                                                                                                                               When watching the anime or reading the manga, Hinata’s first appearance occurs in different places.\n",
            "56                                                                                                                                                                                                                        For the anime, Hinata made her first appearance in the very first episode.\n",
            "57                                                                                                                                                          She appeared as one of Naruto’s classmates in the Academy, and the audience was aware from the beginning of how much she admired Naruto.\n",
            "58                                                                                                                                                                                                                                            In the manga, however, her appearance came much later.\n",
            "59                                                                                                                                                                                                                                 Hinata first appeared in Volume 4, Chapter 34, called “Intruders?\n",
            "60                                                                                                                               !” In the volume, Konohamaru came into contact with a pair of surprise visitors to the village while Naruto and his classmates were preparing for the Chunin Exams.\n",
            "61                                                                                                                                                                                                                                             Hinata appeared only because her team was referenced.\n",
            "62                                                                                                                                                                                                              She wouldn’t have meaningful interactions with Naruto until the exams were underway.\n",
            "63                                                                                                                                                                                                                                                                When Did Hinata First Meet Naruto?\n",
            "64                                                                                                                                                 Though the anime and manga would initially have fans believe that Naruto and Hinata met when enrolling in the Academy, that wasn’t entirely true.\n",
            "65                                                                                                                                                                    Once The Last: Naruto The Movie released, it fleshed out some of their backstory - and was considered part of the manga canon.\n",
            "66                                                                                                                                                                                           Hinata encountered Naruto for the first time as a young child when she was being bullied by older boys.\n",
            "67                                                                                                                                                                               Naruto stood up for her, though he didn’t yet have the skills to defend them from the physical attacks of the boys.\n",
            "68                                                                                                                                                                                         The encounter made Hinata continue to watch him from afar, always admiring his courage and determination.\n",
            "69                                                                                                                                                                                                                                                                 Did Hinata Pass The Chunin Exams?\n",
            "70                                                                                                                                            Fans will remember that when Naruto's generation took the Chunin Exams, the final matches were interrupted by Gaara’s tailed beast starting to emerge.\n",
            "71                                                                                                                                                                                                                             Shikamaru was the only genin to move on to chunin level at that time.\n",
            "72                                                                                                                                         While Naruto took two years to train with Jiraiya away from his home village, the rest of his former Academy classmates trained and took the exams again.\n",
            "73                                                                                                                                                                                                                               During their practical assessment, however, they didn’t do so well.\n",
            "74                                                                                                                                                                                                          Hinata’s team was tasked with stealing a scroll and bringing it back to a meeting place.\n",
            "75                                                                                                                                                                           They got caught in a sandstorm and had to be rescued, but the exams were called off due to conflict in nearby villages.\n",
            "76                                                                                                                                                                     Though her team shouldn’t have technically passed, Tsunade opted to make Hinata, Kiba, and Shino chunin level shinobi anyway.\n",
            "77                                                                                                                                                                                                                                                                          What Does Her Name Mean?\n",
            "78                                                                                                                                                                         Hinata’s name literally translates to “place in the sun,” which makes her naming of her daughter Himawari pretty fitting.\n",
            "79                                                                                                                                                                                           Himawari translates to “sunflower.” Without a place in the sun, sunflowers can’t grow to full maturity.\n",
            "80                                                                                                                                                                                                               Of course, there’s also another reference to family when it comes to Hinata’s name.\n",
            "81                                                                                                                                          The kanji for her name is actually the same kanji for her family name, Hyuga (日向) Himawari’s name also contains the same kanji, though in reverse (向日葵).\n",
            "82                                                                                                                                                                       The use of the same language in their names is another reminder to the audience of how important Hinata’s family is to her.\n",
            "83                                                                                                                                                                                                                                                                 What Is Hinata's Favorite Phrase?\n",
            "84                                                                                                                                                                                           To be fair, this probably isn’t a question a lot of fans have typed into search engines over the years.\n",
            "85                                                                                                                                                                                                      It is, however, something the team behind Naruto thought was important about the characters.\n",
            "86                                                                                                                                                                     Favorite words and phrases were a common piece of information included in the databooks released during the run of the manga.\n",
            "87                                                                                                                                  Hinata’s favorite phrase when the books were released was “self-confidence.” For a young woman who always seemed to be insecure in her own skin, it makes sense.\n",
            "88                                                                                                                              Hinata frequently had to talk herself into actions, hyping herself up the way she thought Naruto would, in order to give herself the confidence boost to keep going.\n",
            "89                                                                                                                                                                                                                                                 As an adult, she’s become much more self-assured.\n",
            "90                                                                                                                                                                                                                                                    What Did Hinata See In The Infinite Tsukuyomi?\n",
            "91                                                                                                                                                                                          During the Fourth Shinobi World War, most of the shinobi world ended up caught in the ultimate genjutsu.\n",
            "92                                                                                                                                                                                                                The Infinite Tsukuyomi caused those caught in it to hallucinate their dream world.\n",
            "93                                                                                                                                                                                              Only the original Team 7 - Naruto, Sakura, and Sasuke - didn’t wind up caught in the hallucinations.\n",
            "94                                                                                                                                                                                                                          She sat on a bench in a peaceful place with Naruto, her longtime crush .\n",
            "95                                                                                                                                                                                                               While they sat, content, her sister Hanabi and her cousin Neji looked on from afar.\n",
            "96                                                                                                                                                                                                                 Her hallucination reminded fans how important her family and love were to Hinata.\n",
            "97                                                                                                                                                                                                                                                    How Many Shinobi Missions Did Hinata Complete?\n",
            "98                                                                                                                                                                                                 According to the databooks, Hinata only completed 33 total missions during her time as a shinobi.\n",
            "99                                                                                                                                                                                                                         As a genin, she was involved in 10 D-ranked (the easiest level) missions.\n",
            "100                                                                                                                                                                                                                             Following that were 14 C-ranked, 8 B-ranked, and 1 A-ranked mission.\n",
            "101                                                                                                                                                       The A, B, and C missions were all likely completed once she was officially ranked as a chunin since they were all more difficult missions.\n",
            "102                                                                                                                                                                                                                                      Of course, these are the official numbers in the databooks.\n",
            "103                                                                                                                                                                                            If the anime filler episodes were included, it’s entirely possible that Hinata’s numbers would go up.\n",
            "104                                                                                  Interestingly, Hinata, despite frequently being involved in searches for Orochimaru, Sasuke, and members of the Akatsuki in the anime, officially never went on an S-ranked mission, the most difficult of all.\n",
            "105                                                                                                                                                                                                                                                   Why Is Hinata The Legendary Queen Of Gluttony?\n",
            "106                                                                                                                                                                                   Fans who search the internet for information about Hinata will find that she’s got some interesting nicknames.\n",
            "107                                                                                                                                                                                          She’s called the Byakugan Princess in reference to her original position as the heir to the Hyuga clan.\n",
            "108                                                                                                                                                                                                                                        Hinata also has the title of Legendary Queen Of Gluttony.\n",
            "109                                                                                                                                                                                                                                            That title isn’t just a nickname, but one she earned.\n",
            "110                                                                                                                                                                                                            In the Boruto anime, the title accompanies her picture on the wall of Ichiraku Ramen.\n",
            "111                                                                                                                                                              Hinata participated in a ramen eating contest at some point during the time skip between Naruto Shippuden and Boruto - and she won!\n",
            "112                                                                                                                                                                                                                                                               Why Isn't She A Shinobi In Boruto?\n",
            "113                                                                                                                                   Plenty of fans have speculated just why Hinata went through so much shinobi training during Naruto and Naruto Shippuden only to live as a housewife in Boruto.\n",
            "114                                                                                                                                                    Those fans tend to forget that Hinata didn’t begin shinobi training because she wanted to be a ninja, but because she had something to prove.\n",
            "115                                                                                                                                                                               Hinata entered the Academy with her entire family believing she was too weak to become the heir to the Hyuga clan.\n",
            "116                                                                                                                                                                                                                                                                  She wanted to prove them wrong.\n",
            "117                                                                                                                                                                                                                            As her classmates dubbed her too shy or nice, she worked even harder.\n",
            "118                                                                                                                                                                          Hinata also lived in a time when the threat of war between nations, and at the hand of Orochimaru, was always possible.\n",
            "119                                                                                                                                                                                          Training made her prepared for anything, but it didn’t mean she had to live as a soldier in the future.\n",
            "120                                                                                                                                                                                                                                 NEXT: Naruto: 10 Hilarious Hinata Memes Only True Fans Will Love\n",
            "121  The story of Naruto features a colorful cast of characters of all types, from the lovable \"himbo\" Might Guy to the inspiring shonen protagonist Uzumaki Naruto and the shy but kind Hyuga Hinata, who won over Naruto fans everywhere with her sympathetic character arc and sweet personality.\n",
            "122                                                                                                                                                                                                                                     She definitely ranks among anime's best dandere characters .\n",
            "123                                                                                                                                                                                                                                 However, there are more ways to describe Hyuga Hinata than that.\n",
            "124         She isn't just a dandere -- she is a strong-willed and compassionate kunoichi whose personality can be best described with one of the sixteen Myers-Briggs personality types, and that personality type can dive into Hinata's character with more nuance and explore who she really is.\n",
            "125                                                                                                                                     Hinata is best described as a turbulent Mediator -- one of the gentlest and kindest MBTI types along with the Defender and Advocate -- and its code is INFP.\n",
            "126                                                                           That stands for Introverted Intuitive Feeling Perceiving, describing a sensitive and imaginative person who always keeps their mind open to the wonderful possibilities of the future, usually for the sake of others.\n",
            "127                                                                   Despite being introverted, Mediators like Hinata are typically altruistic and selfless, although it's conceivable for team-oriented villains to have this personality type too, such as My Hero Academia 's Shigaraki Tomura .\n",
            "128                                                                                                           As intuitive and feeling-oriented individuals, Mediators like Hinata have strong imaginations and colorful inner lives, even if they don't show it with their quiet and shy exteriors.\n",
            "129                                                                                                           They don't connect with others too easily, but they are eager to help the people around them in any way they can, and they don't need to be put on a pedestal or showered with praise.\n",
            "130                                                                                            Like their Defender cousins, Mediators reject the Protagonist personality type's flashy and showy ways , since they believe that when it comes to aiding people in need, hard work is its own reward.\n",
            "131                                                                                                                                                                Mediators are also known for their strong sense of personal authenticity, strong empathy, and nonjudgmental and accepting nature.\n",
            "132                                                                                                                                                                                              They believe that everyone has a good side that must be nurtured, and that no one is beyond saving.\n",
            "133                                                                      Mediators are beloved and valued for their strong empathy, endless compassion and constant drive to help other people, and this makes them likable, reliable and trustworthy individuals who can be counted on at any time.\n",
            "134                                                                                                        It also helps that INFP Mediators are so honest and nonjudgmental, meaning anyone can feel safe opening up to them about their problems, even people who have difficulty trusting others.\n",
            "135                                                                                                                                           Mediators are also loved for their creative, imaginative and optimistic ways, and they can inspire anyone with their kind words and heartfelt support.\n",
            "136                                                                                                          On the downside, Mediators tend to burn themselves out helping so many other people -- a problem that Defenders also have -- and Mediators pay too little attention to their own needs.\n",
            "137                                                                                                                                                         INFPs may also be self-critical and emotionally vulnerable at times, which can destabilize them and weaken their ability to help others.\n",
            "138                                                                                                                                    Mediators might even be taken advantage of or fooled if someone unscrupulous crosses their path -- something the ultra-trusting Mediators must watch out for.\n",
            "139                                                                                                                              In her youth in the traditionalist Hyuga clan, Hinata didn't get many chances to demonstrate her INFP nature aside from her self-doubt and emotional vulnerability.\n",
            "140                                                                                                                            In her youth, Hinata was a disappointment as a main branch ninja despite having the Byakugan eye, and she quickly internalized the disapproval that was sent her way.\n",
            "141                                                                                                                      Mediators like Hinata thrive on the emotional connections they build and their approval from others, but that works against them when people criticize, doubt or mock them.\n",
            "142                                                                                                                                                                                                                          Mediators are delicate, and Hinata was trampled flat by her own family.\n",
            "143                                                                                                                                                                                    This low self-esteem persisted when she joined Team 8, led by Yuhi Kurenai, until the chunin exam arc began .\n",
            "144                                                                                                                                                                      At least the young Hinata sympathized with Naruto, and the two of them realized they had something in common when they met.\n",
            "145                                                                                                                                                                                                                                    An INFP like Hinata would never leave Naruto to suffer alone.\n",
            "146                                                                                                 As a true INFP, Hinata was inspired when Naruto shouted some encouraging words to her during the Hinata vs. Neji battle, and Hinata took the fight to her bitter cousin Neji with renewed vigor.\n",
            "147                                                                                                             Hinata may have lost that match, but her growing bond with Naruto was impossible to deny, and as a sensitive Mediator, Hinata found great strength in Naruto's kindness towards her.\n",
            "148                                                                     That helped Hinata blossom into a respectable ninja by the time Naruto Shippuden began, and she even stood up for Naruto against the Six Paths of Pain , eager to repay his kindness and proclaim her undying love for him .\n"
          ]
        }
      ]
    },
    {
      "cell_type": "markdown",
      "source": [
        "# Data Cleaning"
      ],
      "metadata": {
        "id": "BenceV_pg6KR"
      }
    },
    {
      "cell_type": "code",
      "source": [
        "# Check for null values in the DataFrame\n",
        "null_summary = df_extracted.isnull().sum()\n",
        "\n",
        "# Print the summary of null values\n",
        "print(\"Summary of null values in each column:\")\n",
        "print(null_summary)"
      ],
      "metadata": {
        "colab": {
          "base_uri": "https://localhost:8080/"
        },
        "id": "Hqrbx0edg71P",
        "outputId": "ee505d46-5c4e-4295-b2de-5cd5965c56e4"
      },
      "execution_count": 14,
      "outputs": [
        {
          "output_type": "stream",
          "name": "stdout",
          "text": [
            "Summary of null values in each column:\n",
            "Sentence    0\n",
            "dtype: int64\n"
          ]
        }
      ]
    },
    {
      "cell_type": "code",
      "source": [
        "# Check for duplicates based on all columns\n",
        "duplicates = df_extracted.duplicated()\n",
        "\n",
        "# Print the rows that are duplicates\n",
        "print(\"Duplicate Rows:\")\n",
        "print(df_extracted[duplicates])"
      ],
      "metadata": {
        "colab": {
          "base_uri": "https://localhost:8080/"
        },
        "id": "NVzPHQsuhBmX",
        "outputId": "035034e7-deb4-402f-d535-d8135a575161"
      },
      "execution_count": 15,
      "outputs": [
        {
          "output_type": "stream",
          "name": "stdout",
          "text": [
            "Duplicate Rows:\n",
            "Empty DataFrame\n",
            "Columns: [Sentence]\n",
            "Index: []\n"
          ]
        }
      ]
    },
    {
      "cell_type": "code",
      "source": [
        "# Save the cleaned DataFrame to a new CSV file\n",
        "df_extracted.to_csv('hinata_RAG.csv', index=False, header=False)\n",
        "\n",
        "# Convert CSV file to .txt file\n",
        "df_extracted.to_csv('hinata_RAG.txt', sep='\\t')"
      ],
      "metadata": {
        "id": "mJdEaa3LhFse"
      },
      "execution_count": 16,
      "outputs": []
    }
  ]
}